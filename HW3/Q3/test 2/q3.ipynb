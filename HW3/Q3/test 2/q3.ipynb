{
 "cells": [
  {
   "cell_type": "markdown",
   "metadata": {},
   "source": [
    "# HW3 - Q3 [35 pts]"
   ]
  },
  {
   "cell_type": "markdown",
   "metadata": {},
   "source": [
    "## Important Notices\n",
    "\n",
    "<div class=\"alert alert-block alert-danger\">\n",
    "    WARNING: <strong>REMOVE</strong> any print statements added to cells with \"#export\" that are used for debugging purposes befrore submitting because they will crash the autograder in Gradescope. Any additional cells can be used for testing purposes at the bottom. \n",
    "</div>\n",
    "\n",
    "<div class=\"alert alert-block alert-danger\">\n",
    "    WARNING: Do <strong>NOT</strong> remove any comment that says \"#export\" because that will crash the autograder in Gradescope. We use this comment to export your code in these cells for grading.\n",
    "</div>\n",
    "\n",
    "<div class=\"alert alert-block alert-danger\">\n",
    "    WARNING: Do <strong>NOT</strong> import any additional libraries into this workbook.\n",
    "</div>\n",
    "\n",
    "All instructions, code comments, etc. in this notebook **are part of the assignment instructions**. That is, if there is instructions about completing a task in this notebook, that task is not optional.  \n",
    "\n",
    "<div class=\"alert alert-block alert-info\">\n",
    "    You <strong>must</strong> implement the following functions in this notebook to receive credit.\n",
    "</div>\n",
    "\n",
    "`user()`\n",
    "\n",
    "`long_trips()`\n",
    "\n",
    "`manhattan_trips()`\n",
    "\n",
    "`weighted_profit()`\n",
    "\n",
    "`final_output()`\n",
    "\n",
    "Each method will be auto-graded using different sets of parameters or data, to ensure that values are not hard-coded.  You may assume we will only use your code to work with data from the NYC-TLC dataset during auto-grading.\n",
    "\n",
    "<div class=\"alert alert-block alert-danger\">\n",
    "    WARNING: Do <strong>NOT</strong> remove or modify the following utility functions:\n",
    "</div>\n",
    "\n",
    "`load_data()`\n",
    "\n",
    "`main()`"
   ]
  },
  {
   "cell_type": "markdown",
   "metadata": {},
   "source": [
    "<div class=\"alert alert-block alert-info\">\n",
    "    Do <strong>not</strong> change the below cell. Run it to initialize your PySpark instance. If you don't get any output, make sure your Notebook's Kernel is set to \"PySpark\" in the top right corner.\n",
    "</div>"
   ]
  },
  {
   "cell_type": "code",
   "execution_count": 85,
   "metadata": {},
   "outputs": [
    {
     "name": "stdout",
     "output_type": "stream",
     "text": [
      "Calculation started (calculation_id=4cc71cc9-782e-36b9-0db9-616dda69db4d) in (session=e0c71c94-18bd-20cc-92e5-0b915818b9b8). Checking calculation status...\n"
     ]
    },
    {
     "data": {
      "application/vnd.jupyter.widget-view+json": {
       "model_id": "4409f2047bcf42ee9d5859a4ef1064df",
       "version_major": 2,
       "version_minor": 0
      },
      "text/plain": [
       "Progress:   0%|          |elapsed time = 00:00s"
      ]
     },
     "metadata": {},
     "output_type": "display_data"
    },
    {
     "name": "stdout",
     "output_type": "stream",
     "text": [
      "Calculation completed.\n",
      "<SparkContext master=athena appName=default>\n",
      "\n"
     ]
    }
   ],
   "source": [
    "sc"
   ]
  },
  {
   "cell_type": "markdown",
   "metadata": {},
   "source": [
    "<div class=\"alert alert-block alert-danger\">\n",
    "    WARNING: Do <strong>NOT</strong> remodify the below cell. It contains the function for loading data and all imports, and the function for running your code.\n",
    "</div>"
   ]
  },
  {
   "cell_type": "code",
   "execution_count": 86,
   "metadata": {},
   "outputs": [
    {
     "name": "stdout",
     "output_type": "stream",
     "text": [
      "Calculation started (calculation_id=a6c71cc9-8166-0b53-afe1-9f11855486af) in (session=e0c71c94-18bd-20cc-92e5-0b915818b9b8). Checking calculation status...\n"
     ]
    },
    {
     "data": {
      "application/vnd.jupyter.widget-view+json": {
       "model_id": "423c8090f3a948eab710a9cf4120ebf7",
       "version_major": 2,
       "version_minor": 0
      },
      "text/plain": [
       "Progress:   0%|          |elapsed time = 00:00s"
      ]
     },
     "metadata": {},
     "output_type": "display_data"
    },
    {
     "name": "stdout",
     "output_type": "stream",
     "text": [
      "Calculation completed.\n"
     ]
    }
   ],
   "source": [
    "#export\n",
    "from pyspark.sql.functions import *\n",
    "from pyspark.sql import *"
   ]
  },
  {
   "cell_type": "code",
   "execution_count": 87,
   "metadata": {},
   "outputs": [
    {
     "name": "stdout",
     "output_type": "stream",
     "text": [
      "Calculation started (calculation_id=36c71cc9-8281-d2e8-11d9-cfc5eff83cac) in (session=e0c71c94-18bd-20cc-92e5-0b915818b9b8). Checking calculation status...\n"
     ]
    },
    {
     "data": {
      "application/vnd.jupyter.widget-view+json": {
       "model_id": "b2a42c1c2fec4722948590c0337ae9c8",
       "version_major": 2,
       "version_minor": 0
      },
      "text/plain": [
       "Progress:   0%|          |elapsed time = 00:00s"
      ]
     },
     "metadata": {},
     "output_type": "display_data"
    },
    {
     "name": "stdout",
     "output_type": "stream",
     "text": [
      "Calculation completed.\n"
     ]
    }
   ],
   "source": [
    "#### DO NOT CHANGE ANYTHING IN THIS CELL ####\n",
    "\n",
    "def load_data(size='small'):\n",
    "    # Loads the data for this question. Do not change this function.\n",
    "    # This function should only be called with the parameter 'small' or 'large'\n",
    "    \n",
    "    if size != 'small' and size != 'large':\n",
    "        print(\"Invalid size parameter provided. Use only 'small' or 'large'.\")\n",
    "        return\n",
    "    \n",
    "    input_bucket = \"s3://cse6242-hw3-q3\"\n",
    "    \n",
    "    # Load Trip Data\n",
    "    trip_path = '/'+size+'/yellow_tripdata*'\n",
    "    trips = spark.read.csv(input_bucket + trip_path, header=True, inferSchema=True)\n",
    "    print(\"Trip Count: \",trips.count()) # Prints # of trips (# of records, as each record is one trip)\n",
    "    \n",
    "    # Load Lookup Data\n",
    "    lookup_path = '/'+size+'/taxi*'\n",
    "    lookup = spark.read.csv(input_bucket + lookup_path, header=True, inferSchema=True)\n",
    "    \n",
    "    return trips, lookup\n",
    "\n",
    "def main(size, bucket):\n",
    "    # Runs your functions implemented above.\n",
    "    \n",
    "    print(user())\n",
    "    trips, lookup = load_data(size=size)\n",
    "    trips = long_trips(trips)\n",
    "    mtrips = manhattan_trips(trips, lookup)\n",
    "    wp = weighted_profit(trips, mtrips)\n",
    "    final = final_output(wp, lookup)\n",
    "    \n",
    "    # Outputs the results for you to visually see\n",
    "    final.show()\n",
    "    \n",
    "    # Writes out as a CSV to your bucket.\n",
    "    final.write.csv(bucket)"
   ]
  },
  {
   "cell_type": "markdown",
   "metadata": {},
   "source": [
    "# Implement the below functions for this assignment:\n",
    "<div class=\"alert alert-block alert-danger\">\n",
    "    WARNING: Do <strong>NOT</strong> change any function inputs or outputs, and ensure that the dataframes your code returns align with the schema definitions commented in each function. Do <strong>NOT</strong> remove the #export comment from each of the code blocks either. This can prevent your code from being converted to a python file.\n",
    "</div>"
   ]
  },
  {
   "cell_type": "markdown",
   "metadata": {},
   "source": [
    "## 3a. [1 pt] Update the `user()` function\n",
    "This function should return your GT username, eg: gburdell3"
   ]
  },
  {
   "cell_type": "code",
   "execution_count": 88,
   "metadata": {},
   "outputs": [
    {
     "name": "stdout",
     "output_type": "stream",
     "text": [
      "Calculation started (calculation_id=0cc71cc9-87c7-6761-052e-b87a2f847b00) in (session=e0c71c94-18bd-20cc-92e5-0b915818b9b8). Checking calculation status...\n"
     ]
    },
    {
     "data": {
      "application/vnd.jupyter.widget-view+json": {
       "model_id": "cf007a5f4b2e466aba00413e39bf5980",
       "version_major": 2,
       "version_minor": 0
      },
      "text/plain": [
       "Progress:   0%|          |elapsed time = 00:00s"
      ]
     },
     "metadata": {},
     "output_type": "display_data"
    },
    {
     "name": "stdout",
     "output_type": "stream",
     "text": [
      "Calculation completed.\n",
      "zhong61/zhong87\n",
      "\n"
     ]
    }
   ],
   "source": [
    "#export\n",
    "def user():\n",
    "    # Returns a string consisting of your GT username.\n",
    "    return 'zhong61/zhong87'\n",
    "print (user())"
   ]
  },
  {
   "cell_type": "markdown",
   "metadata": {},
   "source": [
    "## 3b. [2 pts] Update the `long_trips()` function\n",
    "This function filters trips to keep only trips greater than or equal to 2 miles."
   ]
  },
  {
   "cell_type": "code",
   "execution_count": 89,
   "metadata": {},
   "outputs": [
    {
     "name": "stdout",
     "output_type": "stream",
     "text": [
      "Calculation started (calculation_id=4ec71cc9-88ec-458b-e663-e76f99384075) in (session=e0c71c94-18bd-20cc-92e5-0b915818b9b8). Checking calculation status...\n"
     ]
    },
    {
     "data": {
      "application/vnd.jupyter.widget-view+json": {
       "model_id": "05c1b66c8b2a4fbc9d4f16b808a1b965",
       "version_major": 2,
       "version_minor": 0
      },
      "text/plain": [
       "Progress:   0%|          |elapsed time = 00:00s"
      ]
     },
     "metadata": {},
     "output_type": "display_data"
    },
    {
     "name": "stdout",
     "output_type": "stream",
     "text": [
      "Calculation completed.\n"
     ]
    }
   ],
   "source": [
    "#export\n",
    "def long_trips(trips):\n",
    "    # Returns a Dataframe (trips) with Schema the same as :trips:\n",
    "    return trips.where(trips['trip_distance'] >= 2)\n",
    "    pass"
   ]
  },
  {
   "cell_type": "markdown",
   "metadata": {},
   "source": [
    "## 3c. [6 pts] Update the `manhattan_trips()` function\n",
    "\n",
    "This function determines the top 20 locations with a `DOLocationID` in manhattan by passenger_count (pcount).\n",
    "\n",
    "Example output formatting:\n",
    "\n",
    "```\n",
    "+--------------+--------+\n",
    "| DOLocationID | pcount |\n",
    "+--------------+--------+\n",
    "|             5|      15|\n",
    "|            16|      12| \n",
    "+--------------+--------+\n",
    "```"
   ]
  },
  {
   "cell_type": "code",
   "execution_count": 90,
   "metadata": {},
   "outputs": [
    {
     "name": "stdout",
     "output_type": "stream",
     "text": [
      "Calculation started (calculation_id=0ec71cc9-8e31-7148-53b6-24b7c1f7d726) in (session=e0c71c94-18bd-20cc-92e5-0b915818b9b8). Checking calculation status...\n"
     ]
    },
    {
     "data": {
      "application/vnd.jupyter.widget-view+json": {
       "model_id": "9e6c748914fd42ea8f292e4ecd880cc4",
       "version_major": 2,
       "version_minor": 0
      },
      "text/plain": [
       "Progress:   0%|          |elapsed time = 00:00s"
      ]
     },
     "metadata": {},
     "output_type": "display_data"
    },
    {
     "name": "stdout",
     "output_type": "stream",
     "text": [
      "Calculation completed.\n"
     ]
    }
   ],
   "source": [
    "#export\n",
    "def manhattan_trips(trips, lookup):\n",
    "    # Returns a Dataframe (mtrips) with Schema: DOLocationID, pcount\n",
    "     # Join the trips and lookup DataFrames to get the location information\n",
    "    joined_df = trips.join(lookup, trips.DOLocationID == lookup.LocationID, 'inner')\n",
    "    \n",
    "    # Filter for locations in Manhattan\n",
    "    manhattan_df = joined_df.where(col('Borough') == 'Manhattan')\n",
    "    \n",
    "    # Group by DOLocationID and sum the passenger_count\n",
    "    pcount_df = manhattan_df.groupBy('DOLocationID').agg(sum('passenger_count').alias('pcount'))\n",
    "    \n",
    "    # Order by pcount in descending order and select the top 20 rows\n",
    "    top_20 = pcount_df.orderBy(col('pcount').desc()).limit(20).select('DOLocationID', 'pcount')\n",
    "    \n",
    "    return top_20\n",
    "    pass"
   ]
  },
  {
   "cell_type": "markdown",
   "metadata": {},
   "source": [
    "## 3d. [6 pts] Update the `weighted_profit()` function\n",
    "This function should determine the average `total_amount`, the total count of trips, and the total count of trips ending in the top 20 destinations and return the `weighted_profit` as discussed in the homework document.\n",
    "\n",
    "Example output formatting:\n",
    "```\n",
    "+--------------+-------------------+\n",
    "| PULocationID |  weighted_profit  |\n",
    "+--------------+-------------------+\n",
    "|            18| 33.784444421924436| \n",
    "|            12| 21.124577637149223| \n",
    "+--------------+-------------------+\n",
    "```"
   ]
  },
  {
   "cell_type": "code",
   "execution_count": 91,
   "metadata": {},
   "outputs": [
    {
     "name": "stdout",
     "output_type": "stream",
     "text": [
      "Calculation started (calculation_id=96c71cc9-9337-1669-ece4-a4c53a2997a4) in (session=e0c71c94-18bd-20cc-92e5-0b915818b9b8). Checking calculation status...\n"
     ]
    },
    {
     "data": {
      "application/vnd.jupyter.widget-view+json": {
       "model_id": "3e5d6b06570f417b848645c60780b75c",
       "version_major": 2,
       "version_minor": 0
      },
      "text/plain": [
       "Progress:   0%|          |elapsed time = 00:00s"
      ]
     },
     "metadata": {},
     "output_type": "display_data"
    },
    {
     "name": "stdout",
     "output_type": "stream",
     "text": [
      "Calculation completed.\n"
     ]
    }
   ],
   "source": [
    "#export\n",
    "def weighted_profit(trips, mtrips): \n",
    "    # Returns a Dataframe (wp) with Schema: PULocationID, weighted_profit\n",
    "    # Note: Use decimal datatype for weighted profit (NOTE: DON'T USE FLOAT)\n",
    "    # Our grader will be only be checking the first 8 characters for each value in the dataframe\n",
    "   # Calculate the average total_amount\n",
    "    avg_total_amount = trips.select(avg('total_amount').alias('avg_total_amount')).collect()[0]['avg_total_amount']\n",
    "\n",
    "    # Count the total number of trips\n",
    "    total_trips = trips.count()\n",
    "\n",
    "    # Count the number of trips ending in the top 20 destinations\n",
    "    top_20_dest_trips = trips.join(mtrips, trips.DOLocationID == mtrips.DOLocationID, 'inner').count()\n",
    "\n",
    "    # Calculate the weight based on the ratio of trips ending in the top 20 destinations\n",
    "    weight = top_20_dest_trips / total_trips\n",
    "\n",
    "    # Get the top 20 destination IDs as a list\n",
    "    top_20_dest_ids = [row.DOLocationID for row in mtrips.select('DOLocationID').collect()]\n",
    "\n",
    "    # Calculate the weighted profit for each PULocationID\n",
    "    wp = trips.groupBy('PULocationID') \\\n",
    "              .agg(avg('total_amount').alias('avg_total_amount'),\n",
    "                   count('*').alias('total_trips'),\n",
    "                   count(when(col('DOLocationID').isin(top_20_dest_ids), 1)).alias('top_20_trips')) \\\n",
    "              .withColumn('weight', col('top_20_trips') / col('total_trips')) \\\n",
    "              .withColumn('weighted_profit', col('avg_total_amount') * col('weight')) \\\n",
    "              .select('PULocationID', 'weighted_profit')\n",
    "\n",
    "    return wp"
   ]
  },
  {
   "cell_type": "code",
   "execution_count": null,
   "metadata": {},
   "outputs": [],
   "source": []
  },
  {
   "cell_type": "markdown",
   "metadata": {},
   "source": [
    "## 3e. [5 pts] Update the `final_output()` function\n",
    "This function will take the results of `weighted_profit`, links it to the `borough` and `zone` and returns the top 20 locations with the highest `weighted_profit`.\n",
    "\n",
    "Example output formatting:\n",
    "```\n",
    "+------------+---------+-------------------+\n",
    "|    Zone    | Borough |  weighted_profit  |\n",
    "+----------------------+-------------------+\n",
    "| JFK Airport|   Queens|  16.95897820117925|\n",
    "|     Jamaica|   Queens| 14.879835188762488|\n",
    "+------------+---------+-------------------+\n",
    "```"
   ]
  },
  {
   "cell_type": "code",
   "execution_count": 92,
   "metadata": {},
   "outputs": [
    {
     "name": "stdout",
     "output_type": "stream",
     "text": [
      "Calculation started (calculation_id=40c71cc9-98a4-4e93-6b0f-e24480cb43f5) in (session=e0c71c94-18bd-20cc-92e5-0b915818b9b8). Checking calculation status...\n"
     ]
    },
    {
     "data": {
      "application/vnd.jupyter.widget-view+json": {
       "model_id": "64abaccac10f42f099edb2c633b6096f",
       "version_major": 2,
       "version_minor": 0
      },
      "text/plain": [
       "Progress:   0%|          |elapsed time = 00:00s"
      ]
     },
     "metadata": {},
     "output_type": "display_data"
    },
    {
     "name": "stdout",
     "output_type": "stream",
     "text": [
      "Calculation completed.\n"
     ]
    }
   ],
   "source": [
    "#export\n",
    "def final_output(wp, lookup): \n",
    "    # Returns a Dataframe (final) with Schema: Zone, Borough, weighted_profit\n",
    "    # Note: Use decimal datatype for weighted profit (NOTE: DON'T USE FLOAT)\n",
    "    # Our grader will be only be checking the first 8 characters for each value in the dataframe\n",
    "        # Join the weighted_profit DataFrame with the lookup DataFrame\n",
    "    final = wp.join(lookup, wp.PULocationID == lookup.LocationID, 'inner') \\\n",
    "              .select(lookup.Zone, lookup.Borough, wp.weighted_profit) \\\n",
    "              .orderBy(col('weighted_profit').desc()) \\\n",
    "              .limit(20)\n",
    "    \n",
    "    return final\n",
    "    pass"
   ]
  },
  {
   "cell_type": "markdown",
   "metadata": {},
   "source": [
    "#### Testing\n",
    "\n",
    "<div class=\"alert alert-block alert-info\">\n",
    "    You may use the below cell for any additional testing you need to do, however any code implemented below will not be run or used when grading.\n",
    "</div>"
   ]
  },
  {
   "cell_type": "code",
   "execution_count": 93,
   "metadata": {},
   "outputs": [
    {
     "name": "stdout",
     "output_type": "stream",
     "text": [
      "Calculation started (calculation_id=62c71cc9-99b8-80d6-455e-7938008ac225) in (session=e0c71c94-18bd-20cc-92e5-0b915818b9b8). Checking calculation status...\n"
     ]
    },
    {
     "data": {
      "application/vnd.jupyter.widget-view+json": {
       "model_id": "708a73635a22446081f7b36802e055b8",
       "version_major": 2,
       "version_minor": 0
      },
      "text/plain": [
       "Progress:   0%|          |elapsed time = 00:00s"
      ]
     },
     "metadata": {},
     "output_type": "display_data"
    },
    {
     "name": "stdout",
     "output_type": "stream",
     "text": [
      "Calculation completed.\n"
     ]
    }
   ],
   "source": [
    "def show_final_output(final):\n",
    "    print(\"\\nTop 20 locations with the highest weighted profit:\")\n",
    "    final.show(truncate=False)"
   ]
  },
  {
   "cell_type": "code",
   "execution_count": 94,
   "metadata": {
    "scrolled": true
   },
   "outputs": [
    {
     "name": "stdout",
     "output_type": "stream",
     "text": [
      "Calculation started (calculation_id=a6c71cc9-9edb-4c2c-7c56-a2b58dc5888f) in (session=e0c71c94-18bd-20cc-92e5-0b915818b9b8). Checking calculation status...\n"
     ]
    },
    {
     "data": {
      "application/vnd.jupyter.widget-view+json": {
       "model_id": "28d80cca197b446a86a9efa34bd46be9",
       "version_major": 2,
       "version_minor": 0
      },
      "text/plain": [
       "Progress:   0%|          |elapsed time = 00:00s"
      ]
     },
     "metadata": {},
     "output_type": "display_data"
    },
    {
     "name": "stdout",
     "output_type": "stream",
     "text": [
      "Calculation completed.\n",
      "Trip Count:  187203269\n",
      "Schema of the final DataFrame:\n",
      "root\n",
      " |-- Zone: string (nullable = true)\n",
      " |-- Borough: string (nullable = true)\n",
      " |-- weighted_profit: double (nullable = true)\n",
      "\n",
      "\n",
      "Top 20 locations with the highest weighted profit:\n",
      "+----------------------------+---------+------------------+\n",
      "|Zone                        |Borough  |weighted_profit   |\n",
      "+----------------------------+---------+------------------+\n",
      "|Briarwood/Jamaica Hills     |Queens   |29.154274257219736|\n",
      "|Baisley Park                |Queens   |27.566277844176806|\n",
      "|Flushing Meadows-Corona Park|Queens   |25.89226284295958 |\n",
      "|South Jamaica               |Queens   |23.78891860645949 |\n",
      "|Randalls Island             |Manhattan|18.524747085180504|\n",
      "|LaGuardia Airport           |Queens   |18.36148041173494 |\n",
      "|JFK Airport                 |Queens   |17.004295438401876|\n",
      "|Springfield Gardens South   |Queens   |16.32148785749215 |\n",
      "|Jamaica                     |Queens   |15.426118009407105|\n",
      "|Corona                      |Queens   |14.89394261193609 |\n",
      "|Maspeth                     |Queens   |14.572432507577435|\n",
      "|Jamaica Bay                 |Queens   |13.525482350738125|\n",
      "|Astoria Park                |Queens   |12.669548117214958|\n",
      "|Midtown Center              |Manhattan|10.326825461187202|\n",
      "|Midtown North               |Manhattan|10.279861307951029|\n",
      "|Times Sq/Theatre District   |Manhattan|10.064789980887964|\n",
      "|Central Park                |Manhattan|9.95493488360424  |\n",
      "|Garment District            |Manhattan|9.823098322005848 |\n",
      "|Lincoln Square East         |Manhattan|9.788523247214252 |\n",
      "|Midtown East                |Manhattan|9.76692264201927  |\n",
      "+----------------------------+---------+------------------+\n",
      "\n"
     ]
    }
   ],
   "source": [
    "# Load the trips and lookup DataFrames\n",
    "trips, lookup = load_data(size='large')\n",
    "\n",
    "# Generate the mtrips DataFrame\n",
    "mtrips = manhattan_trips(trips, lookup)\n",
    "\n",
    "# Call the weighted_profit function with the trips and mtrips DataFrames\n",
    "wp = weighted_profit(trips, mtrips)\n",
    "\n",
    "# Call the final_output function with the wp and lookup DataFrames\n",
    "final = final_output(wp, lookup)\n",
    "\n",
    "# Print the schema of the final DataFrame\n",
    "print(\"Schema of the final DataFrame:\")\n",
    "final.printSchema()\n",
    "\n",
    "# Call the standalone show_final_output function\n",
    "show_final_output(final)\n",
    "\n",
    "final.write.csv(\"s3://cse6242-zhong61/test1\")\n"
   ]
  },
  {
   "cell_type": "code",
   "execution_count": null,
   "metadata": {},
   "outputs": [],
   "source": []
  }
 ],
 "metadata": {
  "kernelspec": {
   "display_name": "Athena PySpark",
   "language": "python",
   "name": "kepler_python_kernel"
  },
  "language_info": {
   "codemirror_mode": {
    "name": "python",
    "version": 3
   },
   "file_extension": ".py",
   "mimetype": "text/x-python",
   "name": "Python_Session",
   "pygments_lexer": "python3"
  }
 },
 "nbformat": 4,
 "nbformat_minor": 4
}
